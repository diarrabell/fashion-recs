{
  "nbformat": 4,
  "nbformat_minor": 0,
  "metadata": {
    "colab": {
      "provenance": [],
      "authorship_tag": "ABX9TyMz3OM6BFh3SZHoqKoDkyTn",
      "include_colab_link": true
    },
    "kernelspec": {
      "name": "python3",
      "display_name": "Python 3"
    },
    "language_info": {
      "name": "python"
    }
  },
  "cells": [
    {
      "cell_type": "markdown",
      "metadata": {
        "id": "view-in-github",
        "colab_type": "text"
      },
      "source": [
        "<a href=\"https://colab.research.google.com/github/diarrabell/fashion-recs/blob/main/fashion_recs.ipynb\" target=\"_parent\"><img src=\"https://colab.research.google.com/assets/colab-badge.svg\" alt=\"Open In Colab\"/></a>"
      ]
    },
    {
      "cell_type": "code",
      "execution_count": 1,
      "metadata": {
        "colab": {
          "base_uri": "https://localhost:8080/"
        },
        "id": "gdXBmjAFBBih",
        "outputId": "5b90e9ae-af10-486b-93e9-eff7f9ca90bd"
      },
      "outputs": [
        {
          "output_type": "stream",
          "name": "stdout",
          "text": [
            "Looking in indexes: https://pypi.org/simple, https://us-python.pkg.dev/colab-wheels/public/simple/\n",
            "Collecting git+https://github.com/diarrabell/fashion-recs.git\n",
            "  Cloning https://github.com/diarrabell/fashion-recs.git to /tmp/pip-req-build-amzrq01t\n",
            "  Running command git clone --filter=blob:none --quiet https://github.com/diarrabell/fashion-recs.git /tmp/pip-req-build-amzrq01t\n",
            "  Resolved https://github.com/diarrabell/fashion-recs.git to commit 439a0e95cdc7f8a47592f0e31a53014aa5394c1a\n",
            "\u001b[31mERROR: git+https://github.com/diarrabell/fashion-recs.git does not appear to be a Python project: neither 'setup.py' nor 'pyproject.toml' found.\u001b[0m\u001b[31m\n",
            "\u001b[0m"
          ]
        }
      ],
      "source": [
        "!pip install git+https://github.com/diarrabell/fashion-recs.git"
      ]
    },
    {
      "cell_type": "code",
      "source": [],
      "metadata": {
        "id": "4b6kt3CABXe3"
      },
      "execution_count": null,
      "outputs": []
    }
  ]
}